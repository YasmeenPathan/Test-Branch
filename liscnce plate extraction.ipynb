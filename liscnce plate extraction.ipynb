{
 "cells": [
  {
   "cell_type": "code",
   "execution_count": 1,
   "metadata": {},
   "outputs": [
    {
     "name": "stdout",
     "output_type": "stream",
     "text": [
      "Requirement already satisfied: pandas in c:\\users\\yasme\\lib\\site-packages (2.2.2)\n",
      "Requirement already satisfied: numpy>=1.26.0 in c:\\users\\yasme\\lib\\site-packages (from pandas) (1.26.4)\n",
      "Requirement already satisfied: python-dateutil>=2.8.2 in c:\\users\\yasme\\lib\\site-packages (from pandas) (2.9.0.post0)\n",
      "Requirement already satisfied: pytz>=2020.1 in c:\\users\\yasme\\lib\\site-packages (from pandas) (2024.1)\n",
      "Requirement already satisfied: tzdata>=2022.7 in c:\\users\\yasme\\lib\\site-packages (from pandas) (2024.1)\n",
      "Requirement already satisfied: six>=1.5 in c:\\users\\yasme\\lib\\site-packages (from python-dateutil>=2.8.2->pandas) (1.16.0)\n",
      "Note: you may need to restart the kernel to use updated packages.\n"
     ]
    }
   ],
   "source": [
    "pip install pandas\n"
   ]
  },
  {
   "cell_type": "code",
   "execution_count": 7,
   "metadata": {},
   "outputs": [
    {
     "name": "stdout",
     "output_type": "stream",
     "text": [
      "First few rows of the data:\n",
      "   vehicle_id           entry_time            exit_time\n",
      "0           1  2024-01-01 08:00:00  2024-01-01 10:00:00\n",
      "1           2  2024-01-01 09:00:00  2024-01-01 11:30:00\n",
      "2           3  2024-01-01 11:00:00  2024-01-01 13:00:00\n",
      "3           4  2024-01-01 12:30:00  2024-01-01 14:00:00\n",
      "4           5  2024-01-01 14:00:00  2024-01-01 16:30:00\n",
      "\n",
      "Summary statistics:\n",
      "       vehicle_id\n",
      "count    5.000000\n",
      "mean     3.000000\n",
      "std      1.581139\n",
      "min      1.000000\n",
      "25%      2.000000\n",
      "50%      3.000000\n",
      "75%      4.000000\n",
      "max      5.000000\n",
      "\n",
      "Data types of each column:\n",
      "vehicle_id     int64\n",
      "entry_time    object\n",
      "exit_time     object\n",
      "dtype: object\n",
      "\n",
      "Preprocessed data saved to C:\\Users\\yasme\\Downloads\\data_cleaned.csv\n"
     ]
    }
   ],
   "source": [
    "import pandas as pd\n",
    "\n",
    "# Load the CSV file\n",
    "file_path = r'C:\\Users\\yasme\\Downloads\\data.csv'\n",
    "df = pd.read_csv(file_path)\n",
    "\n",
    "# Inspect the first few rows of the dataframe\n",
    "print(\"First few rows of the data:\")\n",
    "print(df.head())\n",
    "\n",
    "# Display summary statistics\n",
    "print(\"\\nSummary statistics:\")\n",
    "print(df.describe())\n",
    "\n",
    "# Display data types of each column\n",
    "print(\"\\nData types of each column:\")\n",
    "print(df.dtypes)\n",
    "\n",
    "# Handle missing values (example: drop rows with any missing values)\n",
    "df_cleaned = df.dropna()\n",
    "\n",
    "# Alternatively, you can fill missing values with a specific value (example: fill with 0)\n",
    "# df_cleaned = df.fillna(0)\n",
    "\n",
    "# Convert data types if necessary (example: convert a column to datetime)\n",
    "# df_cleaned['date_column'] = pd.to_datetime(df_cleaned['date_column'])\n",
    "\n",
    "# Normalize or scale data if necessary (example: scale numerical columns)\n",
    "# from sklearn.preprocessing import StandardScaler\n",
    "# scaler = StandardScaler()\n",
    "# df_cleaned['numeric_column'] = scaler.fit_transform(df_cleaned[['numeric_column']])\n",
    "\n",
    "# Save the cleaned dataframe to a new CSV file\n",
    "output_file_path = r'C:\\Users\\yasme\\Downloads\\data_cleaned.csv'\n",
    "df_cleaned.to_csv(output_file_path, index=False)\n",
    "\n",
    "print(f\"\\nPreprocessed data saved to {output_file_path}\")\n"
   ]
  },
  {
   "cell_type": "code",
   "execution_count": 8,
   "metadata": {},
   "outputs": [
    {
     "name": "stdout",
     "output_type": "stream",
     "text": [
      "First few rows after preprocessing:\n",
      "   vehicle_id          entry_time           exit_time        duration\n",
      "0           1 2024-01-01 08:00:00 2024-01-01 10:00:00 0 days 02:00:00\n",
      "1           2 2024-01-01 09:00:00 2024-01-01 11:30:00 0 days 02:30:00\n",
      "2           3 2024-01-01 11:00:00 2024-01-01 13:00:00 0 days 02:00:00\n",
      "3           4 2024-01-01 12:30:00 2024-01-01 14:00:00 0 days 01:30:00\n",
      "4           5 2024-01-01 14:00:00 2024-01-01 16:30:00 0 days 02:30:00\n",
      "\n",
      "Preprocessed data saved to C:\\Users\\yasme\\Downloads\\data_cleaned.csv\n"
     ]
    }
   ],
   "source": [
    "import pandas as pd\n",
    "\n",
    "# Load the CSV file\n",
    "file_path = r'C:\\Users\\yasme\\Downloads\\data.csv'\n",
    "df = pd.read_csv(file_path)\n",
    "\n",
    "# Convert 'entry_time' and 'exit_time' columns to datetime\n",
    "df['entry_time'] = pd.to_datetime(df['entry_time'])\n",
    "df['exit_time'] = pd.to_datetime(df['exit_time'])\n",
    "\n",
    "# Calculate the duration of stay for each vehicle\n",
    "df['duration'] = df['exit_time'] - df['entry_time']\n",
    "\n",
    "# Display the first few rows to confirm the changes\n",
    "print(\"First few rows after preprocessing:\")\n",
    "print(df.head())\n",
    "\n",
    "# Save the cleaned dataframe to a new CSV file\n",
    "output_file_path = r'C:\\Users\\yasme\\Downloads\\data_cleaned.csv'\n",
    "df.to_csv(output_file_path, index=False)\n",
    "\n",
    "print(f\"\\nPreprocessed data saved to {output_file_path}\")\n"
   ]
  },
  {
   "cell_type": "code",
   "execution_count": 9,
   "metadata": {},
   "outputs": [
    {
     "name": "stdout",
     "output_type": "stream",
     "text": [
      "Requirement already satisfied: opencv-python in c:\\users\\yasme\\lib\\site-packages (4.10.0.84)\n",
      "Requirement already satisfied: numpy>=1.21.2 in c:\\users\\yasme\\lib\\site-packages (from opencv-python) (1.26.4)\n",
      "Note: you may need to restart the kernel to use updated packages.\n"
     ]
    },
    {
     "name": "stderr",
     "output_type": "stream",
     "text": [
      "\n",
      "[notice] A new release of pip is available: 24.1.1 -> 24.1.2\n",
      "[notice] To update, run: python.exe -m pip install --upgrade pip\n"
     ]
    }
   ],
   "source": [
    "pip install opencv-python\n"
   ]
  },
  {
   "cell_type": "code",
   "execution_count": null,
   "metadata": {},
   "outputs": [],
   "source": [
    "import pytesseract\n",
    "\n",
    "pytesseract.pytesseract.tesseract_cmd = r'C:\\Program Files\\Tesseract-OCR\\tesseract.exe'"
   ]
  },
  {
   "cell_type": "code",
   "execution_count": 1,
   "metadata": {},
   "outputs": [],
   "source": [
    "import pytesseract\n",
    "\n",
    "# If you don't have tesseract executable in your PATH, include the following:\n",
    "pytesseract.pytesseract.tesseract_cmd = r'<\"C:\\Users\\yasme\\Downloads\\tesseract-ocr-w64-setup-5.4.0.20240606 (1).exe\">'\n",
    "# Example tesseract_cmd = r'C:\\Program Files (x86)\\Tesseract-OCR\\tesseract'"
   ]
  },
  {
   "cell_type": "code",
   "execution_count": null,
   "metadata": {},
   "outputs": [],
   "source": [
    "import cv2\n",
    "import pytesseract\n",
    "from PIL import Image\n",
    "import os\n",
    "from skimage.metrics import structural_similarity as ssim\n",
    "\n",
    "# Path to Tesseract executable\n",
    "pytesseract.pytesseract.tesseract_cmd = r'C:\\Users\\yasme\\Downloads\\archive (1)\\tesseract.exe'\n",
    "\n",
    "# Path to dataset of preprocessed vehicle images\n",
    "dataset_path = r'C:\\Users\\yasme\\Downloads\\archive (1)\\preprocessed_images'\n",
    "\n",
    "# Function to match vehicle image with dataset\n",
    "def match_vehicle(image):\n",
    "    for filename in os.listdir(dataset_path):\n",
    "        dataset_image_path = os.path.join(dataset_path, filename)\n",
    "        dataset_image = cv2.imread(dataset_image_path)\n",
    "        \n",
    "        # Convert dataset image and input image to grayscale\n",
    "        dataset_gray = cv2.cvtColor(dataset_image, cv2.COLOR_BGR2GRAY)\n",
    "        input_gray = cv2.cvtColor(image, cv2.COLOR_BGR2GRAY)\n",
    "        \n",
    "        # Calculate Structural Similarity Index (SSIM)\n",
    "        ssim_index, _ = ssim(dataset_gray, input_gray, full=True)\n",
    "        \n",
    "        # Set a threshold for SSIM value to consider it a match\n",
    "        if ssim_index > 0.7:  # Adjust threshold as per your dataset and images\n",
    "            # Perform OCR on matched image to get license plate\n",
    "            try:\n",
    "                text = pytesseract.image_to_string(Image.fromarray(dataset_image), config='--psm 7')\n",
    "                return text.strip()\n",
    "            except Exception as e:\n",
    "                print(f\"Error during OCR: {e}\")\n",
    "                return None\n",
    "    \n",
    "    return None\n",
    "\n",
    "# Initialize video capture object\n",
    "cap = cv2.VideoCapture(0)  # Change to your camera index or video file path if needed\n",
    "\n",
    "while True:\n",
    "    ret, frame = cap.read()\n",
    "    if not ret:\n",
    "        print(\"Error: Failed to capture image from camera.\")\n",
    "        break\n",
    "    \n",
    "    # Perform vehicle detection using your preferred method (e.g., object detection)\n",
    "    # For simplicity, assume 'frame' contains the captured frame from the camera\n",
    "    # Replace with your actual vehicle detection code here\n",
    "    \n",
    "    # Here 'vehicle_image' is assumed to be the region of interest (ROI) containing the vehicle\n",
    "    vehicle_image = frame  # Example: Using the whole frame as vehicle_image\n",
    "    \n",
    "    # Process the 'vehicle_image'\n",
    "    matched_plate = match_vehicle(vehicle_image)\n",
    "    \n",
    "    if matched_plate:\n",
    "        print(f\"License Plate: {matched_plate}\")\n",
    "        print(\"Match: True\")\n",
    "    else:\n",
    "        print(\"Match: False\")\n",
    "    \n",
    "    # Display the frame with bounding boxes, if any\n",
    "    cv2.imshow('Vehicle Detection', frame)\n",
    "    \n",
    "    # Exit loop on 'q' key press\n",
    "    if cv2.waitKey(1) & 0xFF == ord('q'):\n",
    "        break\n",
    "\n",
    "# Release video capture and close all windows\n",
    "cap.release()\n",
    "cv2.destroyAllWindows()\n"
   ]
  },
  {
   "cell_type": "code",
   "execution_count": 2,
   "metadata": {},
   "outputs": [
    {
     "name": "stdout",
     "output_type": "stream",
     "text": [
      "Requirement already satisfied: opencv-python in c:\\users\\yasme\\lib\\site-packages (4.10.0.84)\n",
      "Requirement already satisfied: pytesseract in c:\\users\\yasme\\lib\\site-packages (0.3.10)\n",
      "Requirement already satisfied: pandas in c:\\users\\yasme\\lib\\site-packages (2.2.2)\n",
      "Requirement already satisfied: numpy>=1.21.2 in c:\\users\\yasme\\lib\\site-packages (from opencv-python) (1.26.4)\n",
      "Requirement already satisfied: packaging>=21.3 in c:\\users\\yasme\\lib\\site-packages (from pytesseract) (24.1)\n",
      "Requirement already satisfied: Pillow>=8.0.0 in c:\\users\\yasme\\lib\\site-packages (from pytesseract) (10.3.0)\n",
      "Requirement already satisfied: python-dateutil>=2.8.2 in c:\\users\\yasme\\lib\\site-packages (from pandas) (2.9.0.post0)\n",
      "Requirement already satisfied: pytz>=2020.1 in c:\\users\\yasme\\lib\\site-packages (from pandas) (2024.1)\n",
      "Requirement already satisfied: tzdata>=2022.7 in c:\\users\\yasme\\lib\\site-packages (from pandas) (2024.1)\n",
      "Requirement already satisfied: six>=1.5 in c:\\users\\yasme\\lib\\site-packages (from python-dateutil>=2.8.2->pandas) (1.16.0)\n",
      "Note: you may need to restart the kernel to use updated packages.\n"
     ]
    },
    {
     "name": "stderr",
     "output_type": "stream",
     "text": [
      "\n",
      "[notice] A new release of pip is available: 24.1.1 -> 24.1.2\n",
      "[notice] To update, run: python.exe -m pip install --upgrade pip\n"
     ]
    }
   ],
   "source": [
    "pip install opencv-python pytesseract pandas\n"
   ]
  },
  {
   "cell_type": "code",
   "execution_count": 1,
   "metadata": {},
   "outputs": [
    {
     "name": "stdout",
     "output_type": "stream",
     "text": [
      "License plate extraction completed and saved to CSV.\n"
     ]
    }
   ],
   "source": [
    "import cv2\n",
    "import pandas as pd\n",
    "import pytesseract\n",
    "\n",
    "# Path to Tesseract executable (replace with your path)\n",
    "pytesseract.pytesseract.tesseract_cmd = r'C:\\Users\\yasme\\Downloads\\archive (1)\\tesseract.exe'\n",
    "\n",
    "# Function to extract license plate from an image\n",
    "def extract_license_plate(image_path):\n",
    "    # Read the image using OpenCV\n",
    "    image = cv2.imread(image_path)\n",
    "    \n",
    "    if image is not None:\n",
    "        # Convert image to grayscale\n",
    "        gray_image = cv2.cvtColor(image, cv2.COLOR_BGR2GRAY)\n",
    "        \n",
    "        # Perform OCR using pytesseract\n",
    "        custom_config = r'--oem 3 --psm 6 -c tessedit_char_whitelist=ABCDEFGHIJKLMNOPQRSTUVWXYZ0123456789 --dpi 300'\n",
    "        extracted_text = pytesseract.image_to_string(gray_image, config=custom_config)\n",
    "        \n",
    "        # Return the extracted text (license plate)\n",
    "        return extracted_text.strip()\n",
    "    else:\n",
    "        return None\n",
    "\n",
    "# Load your dataset into a DataFrame (assuming 'google_images_filenames.csv' contains 'File Name' column)\n",
    "df = pd.read_csv('C:/Users/yasme/Downloads/google_images_filenames.csv')\n",
    "\n",
    "# Iterate through each row in the DataFrame\n",
    "for index, row in df.iterrows():\n",
    "    image_path = row['File Name']  # Assuming 'File Name' contains the full path to each image\n",
    "    license_plate = extract_license_plate(image_path)\n",
    "    \n",
    "    # Update the DataFrame with the extracted license plate number\n",
    "    df.at[index, 'License Plate'] = license_plate\n",
    "\n",
    "# Save the updated DataFrame back to CSV or another file format if needed\n",
    "df.to_csv('C:/Users/yasme/Downloads/data_with_license_plates.csv', index=False)\n",
    "\n",
    "print(\"License plate extraction completed and saved to CSV.\")\n"
   ]
  },
  {
   "cell_type": "code",
   "execution_count": 49,
   "metadata": {},
   "outputs": [
    {
     "name": "stdout",
     "output_type": "stream",
     "text": [
      "Cleaned dataset saved successfully.\n"
     ]
    }
   ],
   "source": [
    "# Assign cleaned dataframe back to the original variable or save to a new CSV file\n",
    "# For example, to save to a new CSV file:\n",
    "cleaned_df.to_csv('cleaned_dataset.csv', index=False)\n",
    "print(\"Cleaned dataset saved successfully.\")\n"
   ]
  },
  {
   "cell_type": "code",
   "execution_count": 2,
   "metadata": {},
   "outputs": [
    {
     "name": "stdout",
     "output_type": "stream",
     "text": [
      "License plate extraction completed and saved to CSV.\n"
     ]
    }
   ],
   "source": [
    "import cv2\n",
    "import pandas as pd\n",
    "import pytesseract\n",
    "\n",
    "# Path to Tesseract executable (replace with your path)\n",
    "pytesseract.pytesseract.tesseract_cmd = r'C:\\Users\\yasme\\Downloads\\archive (1)\\tesseract.exe'\n",
    "\n",
    "# Function to extract license plate from an image\n",
    "def extract_license_plate(image_path):\n",
    "    # Read the image using OpenCV\n",
    "    image = cv2.imread(image_path)\n",
    "    \n",
    "    if image is not None:\n",
    "        # Convert image to grayscale\n",
    "        gray_image = cv2.cvtColor(image, cv2.COLOR_BGR2GRAY)\n",
    "        \n",
    "        # Perform OCR using pytesseract\n",
    "        custom_config = r'--oem 3 --psm 6 -c tessedit_char_whitelist=ABCDEFGHIJKLMNOPQRSTUVWXYZ0123456789 --dpi 300'\n",
    "        extracted_text = pytesseract.image_to_string(gray_image, config=custom_config)\n",
    "        \n",
    "        # Return the extracted text (license plate)\n",
    "        return extracted_text.strip()\n",
    "    else:\n",
    "        return None\n",
    "\n",
    "# Load your dataset into a DataFrame (assuming 'google_images_filenames.csv' contains 'File Name' and 'License Plate' columns)\n",
    "df = pd.read_csv(r'C:\\Users\\yasme\\Downloads\\google_images_filenames.csv')\n",
    "\n",
    "# Iterate through each row in the DataFrame\n",
    "for index, row in df.iterrows():\n",
    "    image_path = row['File Name']  # Assuming 'File Name' contains the full path to each image\n",
    "    license_plate = extract_license_plate(image_path)\n",
    "    \n",
    "    # Update the DataFrame with the extracted license plate number\n",
    "    df.at[index, 'License Plate'] = license_plate\n",
    "\n",
    "# Save the updated DataFrame back to CSV or another file format if needed\n",
    "df.to_csv(r'C:\\Users\\yasme\\Downloads\\google_images_filenames.csv', index=False)\n",
    "\n",
    "print(\"License plate extraction completed and saved to CSV.\")\n"
   ]
  },
  {
   "cell_type": "code",
   "execution_count": 3,
   "metadata": {},
   "outputs": [
    {
     "name": "stdout",
     "output_type": "stream",
     "text": [
      "0    0073797c-a755-4972-b76b-8ef2b31d44ab___new_IMG...\n",
      "1    0073797c-a755-4972-b76b-8ef2b31d44ab___new_IMG...\n",
      "2    00b42b2c-f193-4863-b92c-0245cbc816da___3e7fd38...\n",
      "3    00b42b2c-f193-4863-b92c-0245cbc816da___3e7fd38...\n",
      "4    018b52e6-e9a1-42c2-8ce7-0617e8c8e021___3e7fd38...\n",
      "Name: File Name, dtype: object\n",
      "Image paths have been saved to 'image_paths.txt'.\n"
     ]
    }
   ],
   "source": [
    "import pandas as pd\n",
    "\n",
    "# Load the dataset\n",
    "df = pd.read_csv(r'C:\\Users\\yasme\\Downloads\\google_images_filenames.csv')\n",
    "\n",
    "# Extract the 'File Name' column\n",
    "image_paths = df['File Name']\n",
    "\n",
    "# Display the first few image paths\n",
    "print(image_paths.head())\n",
    "\n",
    "# Save the image paths to a text file if needed\n",
    "with open(r'C:\\Users\\yasme\\Downloads\\image_paths.txt', 'w') as f:\n",
    "    for path in image_paths:\n",
    "        f.write(path + '\\n')\n",
    "\n",
    "print(\"Image paths have been saved to 'image_paths.txt'.\")\n"
   ]
  },
  {
   "cell_type": "code",
   "execution_count": 2,
   "metadata": {},
   "outputs": [
    {
     "name": "stdout",
     "output_type": "stream",
     "text": [
      "Extracted Text: \n",
      "Extracted Text: 22BH6517\n",
      "Not Authorized: 22BH6517\n",
      "Correct plate found: 22BH6517\n"
     ]
    }
   ],
   "source": [
    "import cv2\n",
    "import pytesseract\n",
    "import pandas as pd\n",
    "import re\n",
    "import os\n",
    "\n",
    "# Path to Tesseract executable\n",
    "pytesseract.pytesseract.tesseract_cmd = r'C:\\Users\\yasme\\Downloads\\archive (1)\\tesseract.exe'\n",
    "\n",
    "# Load the dataset into a DataFrame\n",
    "df = pd.read_csv(r'C:\\Users\\yasme\\Downloads\\google_images_filenames.csv')\n",
    "\n",
    "# Directory to save screenshots\n",
    "output_directory = 'C:/Users/yasme/Downloads/screenshot_outputs/'\n",
    "os.makedirs(output_directory, exist_ok=True)\n",
    "\n",
    "# Function to preprocess the image for better OCR accuracy\n",
    "def preprocess_image(image):\n",
    "    gray_image = cv2.cvtColor(image, cv2.COLOR_BGR2GRAY)\n",
    "    blurred_image = cv2.GaussianBlur(gray_image, (5, 5), 0)\n",
    "    _, thresh_image = cv2.threshold(blurred_image, 0, 255, cv2.THRESH_BINARY + cv2.THRESH_OTSU)\n",
    "    return thresh_image\n",
    "\n",
    "# Function to extract text from a license plate image using Tesseract OCR\n",
    "def extract_text(image):\n",
    "    custom_config = r'--oem 3 --psm 8 -c tessedit_char_whitelist=ABCDEFGHIJKLMNOPQRSTUVWXYZ0123456789'\n",
    "    text = pytesseract.image_to_string(image, config=custom_config)\n",
    "    text = text.strip()\n",
    "    \n",
    "    # Validate the text using a regular expression for license plate formats\n",
    "    match = re.fullmatch(r'[A-Z0-9]{1,8}', text)  # Adjust regex based on your license plate format\n",
    "    if match:\n",
    "        return text\n",
    "    else:\n",
    "        return \"\"\n",
    "\n",
    "# Function to check if license plate is in the database\n",
    "def check_license_plate(plate):\n",
    "    return plate in df['License Plate'].values\n",
    "\n",
    "# Load a pre-trained Haar Cascade for license plate detection\n",
    "plate_cascade = cv2.CascadeClassifier(cv2.data.haarcascades + 'haarcascade_russian_plate_number.xml')\n",
    "\n",
    "# Initialize video capture (0 for default camera)\n",
    "cap = cv2.VideoCapture(0)\n",
    "\n",
    "correct_output_found = False\n",
    "\n",
    "while True:\n",
    "    ret, frame = cap.read()\n",
    "    \n",
    "    if not ret:\n",
    "        break\n",
    "    \n",
    "    gray_frame = cv2.cvtColor(frame, cv2.COLOR_BGR2GRAY)\n",
    "    plates = plate_cascade.detectMultiScale(gray_frame, scaleFactor=1.1, minNeighbors=5, minSize=(25, 25))\n",
    "    \n",
    "    for (x, y, w, h) in plates:\n",
    "        plate_image = frame[y:y+h, x:x+w]\n",
    "        \n",
    "        # Preprocess the plate image\n",
    "        processed_plate_image = preprocess_image(plate_image)\n",
    "        \n",
    "        # Extract text from the plate image\n",
    "        license_plate_text = extract_text(processed_plate_image)\n",
    "        print(f\"Extracted Text: {license_plate_text}\")\n",
    "        \n",
    "        if license_plate_text:\n",
    "            is_authorized = check_license_plate(license_plate_text)\n",
    "            if is_authorized:\n",
    "                output_text = f\"Authorized: {license_plate_text}\"\n",
    "                color = (0, 255, 0)  # Green for authorized\n",
    "            else:\n",
    "                output_text = f\"Not Authorized: {license_plate_text}\"\n",
    "                color = (0, 0, 255)  # Red for not authorized\n",
    "            \n",
    "            # Display output text on console\n",
    "            print(output_text)\n",
    "            \n",
    "            # Display output text on frame\n",
    "            cv2.putText(frame, output_text, (x, y - 10), cv2.FONT_HERSHEY_SIMPLEX, 0.9, color, 2)\n",
    "            \n",
    "            # Save screenshot of the plate\n",
    "            screenshot_path = os.path.join(output_directory, f\"plate_{license_plate_text}.png\")\n",
    "            cv2.imwrite(screenshot_path, plate_image)\n",
    "            \n",
    "            # Break the loop after finding a valid license plate\n",
    "            correct_output_found = True\n",
    "            break\n",
    "    \n",
    "    cv2.imshow('License Plate Recognition', frame)\n",
    "    \n",
    "    if correct_output_found or (cv2.waitKey(1) & 0xFF == ord('q')):\n",
    "        break\n",
    "\n",
    "cap.release()\n",
    "cv2.destroyAllWindows()\n",
    "\n",
    "# Once correct plate is found, display it in a separate window\n",
    "if correct_output_found:\n",
    "    print(f\"Correct plate found: {license_plate_text}\")\n",
    "    recognized_plate = cv2.imread(screenshot_path)\n",
    "    cv2.imshow('Recognized Plate', recognized_plate)\n",
    "    cv2.waitKey(0)\n",
    "    cv2.destroyAllWindows()\n"
   ]
  },
  {
   "cell_type": "code",
   "execution_count": 10,
   "metadata": {},
   "outputs": [
    {
     "name": "stdout",
     "output_type": "stream",
     "text": [
      "Movement Patterns:\n",
      "                     entry_time           exit_time        duration\n",
      "vehicle_id                                                        \n",
      "1          2024-07-04 08:00:00 2024-07-04 10:00:00 0 days 02:00:00\n",
      "2          2024-07-04 08:15:00 2024-07-04 10:15:00 0 days 02:00:00\n",
      "3          2024-07-04 08:30:00 2024-07-04 10:30:00 0 days 02:00:00\n",
      "4          2024-07-04 09:30:00 2024-07-04 10:30:00 0 days 01:00:00\n",
      "Parking Insights:\n",
      "   parking_lot  occupancy\n",
      "0           A          3\n",
      "1           B          2\n",
      "2           C          1\n"
     ]
    },
    {
     "data": {
      "image/png": "[encoded data removed]",
      "text/plain": [
       "<Figure size 1000x600 with 1 Axes>"
      ]
     },
     "metadata": {},
     "output_type": "display_data"
    }
   ],
   "source": [
    "import pandas as pd\n",
    "import matplotlib.pyplot as plt\n",
    "import seaborn as sns\n",
    "\n",
    "def load_data():\n",
    "    # Load the actual data here\n",
    "    data = pd.DataFrame({\n",
    "        'vehicle_id': [1, 2, 3, 1, 2, 4],\n",
    "        'entry_time': ['2024-07-04 08:00:00', '2024-07-04 08:15:00', '2024-07-04 08:30:00', \n",
    "                       '2024-07-04 09:00:00', '2024-07-04 09:15:00', '2024-07-04 09:30:00'],\n",
    "        'exit_time': ['2024-07-04 09:00:00', '2024-07-04 09:15:00', '2024-07-04 10:30:00',\n",
    "                      '2024-07-04 10:00:00', '2024-07-04 10:15:00', '2024-07-04 10:30:00'],\n",
    "        'parking_lot': ['A', 'A', 'B', 'B', 'A', 'C']\n",
    "    })\n",
    "    data['entry_time'] = pd.to_datetime(data['entry_time'])\n",
    "    data['exit_time'] = pd.to_datetime(data['exit_time'])\n",
    "    return data\n",
    "\n",
    "def analyze_data(data):\n",
    "    # Analyze vehicle movement patterns\n",
    "    movement_patterns = data.groupby('vehicle_id').agg({\n",
    "        'entry_time': 'min',\n",
    "        'exit_time': 'max'\n",
    "    })\n",
    "    movement_patterns['duration'] = movement_patterns['exit_time'] - movement_patterns['entry_time']\n",
    "    print(\"Movement Patterns:\\n\", movement_patterns)\n",
    "\n",
    "    # Generate insights on parking occupancy\n",
    "    parking_insights = data.groupby('parking_lot').size().reset_index(name='occupancy')\n",
    "    print(\"Parking Insights:\\n\", parking_insights)\n",
    "\n",
    "    # Visualize insights\n",
    "    plt.figure(figsize=(10, 6))\n",
    "    sns.barplot(x='parking_lot', y='occupancy', data=parking_insights)\n",
    "    plt.title('Average Parking Occupancy by Lot')\n",
    "    plt.xlabel('Parking Lot')\n",
    "    plt.ylabel('Average Occupancy')\n",
    "    plt.show()\n",
    "\n",
    "def main():\n",
    "    data = load_data()\n",
    "    analyze_data(data)\n",
    "\n",
    "if __name__ == \"__main__\":\n",
    "    main()\n"
   ]
  }
 ],
 "metadata": {
  "kernelspec": {
   "display_name": "Python 3",
   "language": "python",
   "name": "python3"
  },
  "language_info": {
   "codemirror_mode": {
    "name": "ipython",
    "version": 3
   },
   "file_extension": ".py",
   "mimetype": "text/x-python",
   "name": "python",
   "nbconvert_exporter": "python",
   "pygments_lexer": "ipython3",
   "version": "3.12.4"
  }
 },
 "nbformat": 4,
 "nbformat_minor": 2
}
